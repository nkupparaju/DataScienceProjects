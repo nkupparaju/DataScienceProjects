{
 "cells": [
  {
   "cell_type": "markdown",
   "metadata": {},
   "source": [
    "# Reinforcement Learning : Proximal Policy Optimization\n",
    "***\n"
   ]
  },
  {
   "cell_type": "markdown",
   "metadata": {},
   "source": [
    "## Reinforcement Learning : A Short intro "
   ]
  },
  {
   "cell_type": "markdown",
   "metadata": {},
   "source": [
    "* Reinforcement learning is a way to learn by interacting with environment and gradually improve performance \n",
    "by trial and error.\n",
    "* Mostly used in robotics and gaming environment, the agents developed using reinforcement learning have become \n",
    "pretty robust to be used in other areas as well. \n",
    "* Due to the complicated, nonlinear patterns and low signal noise ratio in financial market data, \n",
    "  deep reinforcement learning is believed to be a potential fit. \n",
    "\n"
   ]
  },
  {
   "cell_type": "markdown",
   "metadata": {},
   "source": [
    "## Proximal Policy Optimization "
   ]
  },
  {
   "cell_type": "markdown",
   "metadata": {},
   "source": [
    "<video controls src=\"knocked-over-stand-up.mp4\" />"
   ]
  },
  {
   "cell_type": "markdown",
   "metadata": {},
   "source": [
    "* PPO lets us train AI policies in challenging environments, like the Roboschool one shown above where an agent tries to reach a target (the pink sphere), learning to walk, run, turn, use its momentum to recover from minor hits, and how to stand up from the ground when it is knocked over.\n",
    "\n",
    "* Policy : Strategy that AI agent takes to achieve objective. \n",
    "* The overall complicatedness of RL algorithm is that, the training data is generated in real time that inturn is dependent on the policy used by an agent. \n",
    "* Thus data distribution changes constantly over changing rewards and objectives as the agent is learning; this causes major instability in whole training process. \n",
    "* Another problem with RL is hyperparameter tunning and initialization.\n",
    "* PPO came in to solve many such problems and limitations in RL.\n",
    "* The major intend of PPO was easy implementation (both algorighmically as well as resource-wise) and easy tunning. \n",
    "\n",
    "\n"
   ]
  },
  {
   "cell_type": "markdown",
   "metadata": {},
   "source": [
    "* PPO is based on Policy Gradient method : This means its learning is online which means instead of learning from stored data of past action, the agent relies on the actions encountered on the go. "
   ]
  },
  {
   "cell_type": "markdown",
   "metadata": {},
   "source": [
    "* Thus the agent takes batch of experience to update gradient, then whole batch is discarded and policy moves on. \n"
   ]
  },
  {
   "cell_type": "markdown",
   "metadata": {},
   "source": [
    "* Next, PPO is based on TRPO __(Trust Region Policy Optimization)__  TRPO sets the lower bound for policy improvement to avoid policy vanishing problem. \n"
   ]
  },
  {
   "cell_type": "markdown",
   "metadata": {},
   "source": [
    "__Policy Gradient__ \n",
    "\n",
    "<img src=\"image/PG.png\">\n",
    "\n",
    "*  Pi Theta : Policy\n",
    "*  A : Advantage Function , it tries to estimates relative values of selected actions in given action. \n",
    "* Advantage  = Discounted Rewards - Baseline (Value) estimate \n",
    "* Discounted Rewards  = Weighted sum of all the rewards in current episode \n",
    "* Baseline vaule estimate is the guessing of the final reward in this episode. \n",
    "* Thus, combinely, Overall gives optimization objection \n",
    "\n"
   ]
  },
  {
   "cell_type": "markdown",
   "metadata": {},
   "source": [
    "__PPO__ \n",
    "\n",
    "<img src=\"image/ppo_eqn.png\">\n",
    "\n",
    "* E : Expectation, means this function is operated in several batches. \n",
    "* r X A : Normal policy gradient objective, meaning that r pushes the objective to __maximise Advantage Function__\n",
    "* Epsilon : Hyperparameter \n",
    "\n",
    "__Clip Function__ \n",
    "<img src=\"image/clip.png\">\n",
    "\n",
    "\n",
    "What it says : \n",
    "\n",
    " Left : The last action taken was good so don't further update, rather stick to it. \n",
    "\n",
    " Right : The last action was bad so undo it, so move gradient towards other direction in the amount proportional to the badness of this action take. \n",
    "\n",
    "\n"
   ]
  },
  {
   "cell_type": "markdown",
   "metadata": {},
   "source": [
    "### In this Project \n"
   ]
  },
  {
   "cell_type": "markdown",
   "metadata": {},
   "source": [
    "* Investigate if PPO can become a good algorithm for Portfolio management"
   ]
  },
  {
   "cell_type": "markdown",
   "metadata": {},
   "source": [
    "__Portfolio__ : M risk assets(stocks)  +  1 risk-free asset(money)  (M=5 in our experiments)\n",
    " \n",
    " __Action__ : Reallocation at the end of the day\n",
    " \n",
    " __Data Set__ : Several companies' Data from Sanghai Stock Exchange and NASDAQ from 2007 to 2018. \n",
    " \n",
    " __Feature__ : Common features include the closing price, the open price, the high price, the low price and volume. Several researches have concluded the combination of Closing Price and High Price, so sticking to that.     "
   ]
  },
  {
   "cell_type": "code",
   "execution_count": 22,
   "metadata": {},
   "outputs": [],
   "source": [
    "from argparse import ArgumentParser\n",
    "import json\n",
    "import pandas as pd\n",
    "import numpy as np\n",
    "import math\n",
    "from decimal import Decimal\n",
    "import matplotlib.pyplot as plt\n",
    "plt.style.use('ggplot')\n",
    "from agents.ornstein_uhlenbeck import OrnsteinUhlenbeckActionNoise\n",
    "from agents.pg import PG\n",
    "import datetime\n",
    "import os\n",
    "import seaborn as sns\n",
    "sns.set_style(\"darkgrid\")\n"
   ]
  },
  {
   "cell_type": "code",
   "execution_count": 23,
   "metadata": {},
   "outputs": [],
   "source": [
    "#Parameter Initialization\n",
    "\n",
    "eps=10e-8\n",
    "epochs=0\n",
    "M=0\n",
    "PATH_prefix=''"
   ]
  },
  {
   "cell_type": "code",
   "execution_count": 3,
   "metadata": {},
   "outputs": [],
   "source": [
    "#Stock Trader \n",
    "\n",
    "class StockTrader():\n",
    "    def __init__(self):\n",
    "        self.reset()\n",
    "\n",
    "    def reset(self):\n",
    "        self.wealth = 10e3         # Started with Initial amount 10000 for the agent to start trading \n",
    "        self.total_reward = 0\n",
    "        self.ep_ave_max_q = 0\n",
    "        self.loss = 0\n",
    "        self.actor_loss=0\n",
    "\n",
    "        self.wealth_history = []\n",
    "        self.r_history = []\n",
    "        self.w_history = []\n",
    "        self.p_history = []\n",
    "        self.noise = OrnsteinUhlenbeckActionNoise(mu=np.zeros(M))      # Noise added during learning process to simulate real trading scenerio \n",
    "\n",
    "    def update_summary(self,loss,r,q_value,actor_loss,w,p):\n",
    "        self.loss += loss\n",
    "        self.actor_loss+=actor_loss\n",
    "        self.total_reward+=r\n",
    "        self.ep_ave_max_q += q_value\n",
    "        self.r_history.append(r)\n",
    "        self.wealth = self.wealth * math.exp(r)\n",
    "        self.wealth_history.append(self.wealth)\n",
    "        self.w_history.extend([','.join([str(Decimal(str(w0)).quantize(Decimal('0.00'))) for w0 in w.tolist()[0]])])\n",
    "        self.p_history.extend([','.join([str(Decimal(str(p0)).quantize(Decimal('0.000'))) for p0 in p.tolist()])])\n",
    "\n",
    "    def write(self,codes,agent):\n",
    "        global PATH_prefix\n",
    "        wealth_history = pd.Series(self.wealth_history)\n",
    "        r_history = pd.Series(self.r_history)\n",
    "        w_history = pd.Series(self.w_history)\n",
    "        p_history = pd.Series(self.p_history)\n",
    "        history = pd.concat([wealth_history, r_history, w_history, p_history], axis=1)\n",
    "        history.to_csv(PATH_prefix+agent + '-'.join(codes) + '-' + str(math.exp(np.sum(self.r_history)) * 100) + '.csv')\n",
    "\n",
    "    def print_result(self,epoch,agent,noise_flag):\n",
    "        self.total_reward=math.exp(self.total_reward) * 100\n",
    "        print('*-----Episode: {:d}, Reward:{:.6f}%-----*'.format(epoch, self.total_reward))\n",
    "        agent.write_summary(self.total_reward)\n",
    "        agent.save_model()\n",
    "\n",
    "    def plot_result(self):\n",
    "        pd.Series(self.wealth_history).plot()\n",
    "        plt.show()\n",
    "\n",
    "    def action_processor(self,a,ratio):\n",
    "        a = np.clip(a + self.noise() * ratio, 0, 1)\n",
    "        a = a / (a.sum() + eps)\n",
    "        return a"
   ]
  },
  {
   "cell_type": "code",
   "execution_count": 4,
   "metadata": {},
   "outputs": [],
   "source": [
    "def parse_info(info):\n",
    "    return info['reward'],info['continue'],info[ 'next state'],info['weight vector'],info ['price'],info['risk']"
   ]
  },
  {
   "cell_type": "code",
   "execution_count": 5,
   "metadata": {},
   "outputs": [],
   "source": [
    "def traversal(stocktrader,agent,env,epoch,noise_flag,framework,method,trainable):\n",
    "    info = env.step(None,None,noise_flag)\n",
    "    r,contin,s,w1,p,risk=parse_info(info)\n",
    "    contin=1\n",
    "    t=0\n",
    "\n",
    "    while contin:\n",
    "        #w2 = agent.predict(!s,w1)\n",
    "        w2 = agent.predict(s,w1)\n",
    "\n",
    "        env_info = env.step(w1, w2,noise_flag)\n",
    "        r, contin, s_next, w1, p,risk = parse_info(env_info)\n",
    "\n",
    "        if framework=='PG':\n",
    "            agent.save_transition(s,p,w2,w1)\n",
    "        else:\n",
    "            agent.save_transition(s, w2, r-risk, contin, s_next, w1)\n",
    "        loss, q_value,actor_loss=0,0,0\n",
    "\n",
    "        if framework=='DDPG':\n",
    "            if not contin and trainable==\"True\":\n",
    "                agent_info= agent.train(method,epoch)\n",
    "                loss, q_value=agent_info[\"critic_loss\"],agent_info[\"q_value\"]\n",
    "                if method=='model_based':\n",
    "                    actor_loss=agent_info[\"actor_loss\"]\n",
    "\n",
    "        elif framework=='PPO':\n",
    "            if not contin and trainable==\"True\":\n",
    "                agent_info = agent.train(method, epoch)\n",
    "                loss, q_value = agent_info[\"critic_loss\"], agent_info[\"q_value\"]\n",
    "                if method=='model_based':\n",
    "                    actor_loss=agent_info[\"actor_loss\"]\n",
    "\n",
    "        elif framework=='PG':\n",
    "            if not contin and trainable==\"True\":\n",
    "                agent.train()\n",
    "\n",
    "        stocktrader.update_summary(loss,r,q_value,actor_loss,w2,p)\n",
    "        s = s_next\n",
    "        t=t+1\n",
    "\n"
   ]
  },
  {
   "cell_type": "code",
   "execution_count": 6,
   "metadata": {},
   "outputs": [],
   "source": [
    "def maxdrawdown(arr):\n",
    "    i = np.argmax((np.maximum.accumulate(arr) - arr)/np.maximum.accumulate(arr)) # end of the period\n",
    "    j = np.argmax(arr[:i]) # start of period\n",
    "    return (1-arr[i]/arr[j])"
   ]
  },
  {
   "cell_type": "code",
   "execution_count": 21,
   "metadata": {},
   "outputs": [],
   "source": [
    "## Backtest is performed to see if the obtained policy works well. \n",
    "\n",
    "def backtest(agent,env):\n",
    "    global PATH_prefix\n",
    "    print(\"starting to backtest......\")\n",
    "    from agents.UCRP import UCRP\n",
    "    from agents.Winner import WINNER\n",
    "    from agents.Losser import LOSSER\n",
    "\n",
    "\n",
    "    agents=[]\n",
    "    agents.extend(agent)\n",
    "    agents.append(WINNER())\n",
    "    agents.append(UCRP())\n",
    "    agents.append(LOSSER())\n",
    "    labels=['PG','Winner','UCRP','Losser']\n",
    "\n",
    "    wealths_result=[]\n",
    "    rs_result=[]\n",
    "    for i,agent in enumerate(agents):\n",
    "        stocktrader = StockTrader()\n",
    "        info = env.step(None, None,'False')\n",
    "        r, contin, s, w1, p, risk = parse_info(info)\n",
    "        contin = 1\n",
    "        wealth=10000\n",
    "        wealths = [wealth]\n",
    "        rs=[1]\n",
    "        while contin:\n",
    "            w2 = agent.predict(s, w1)\n",
    "            env_info = env.step(w1, w2,'False')\n",
    "            r, contin, s_next, w1, p, risk = parse_info(env_info)\n",
    "            wealth=wealth*math.exp(r)\n",
    "            rs.append(math.exp(r)-1)\n",
    "            wealths.append(wealth)\n",
    "            s=s_next\n",
    "            stocktrader.update_summary(0, r, 0, 0, w2, p)\n",
    "\n",
    "        stocktrader.write(map(lambda x: str(x), env.get_codes()),labels[i])\n",
    "        #print('finish one agent')\n",
    "        wealths_result.append(wealths)\n",
    "        rs_result.append(rs)\n",
    "\n",
    "    print('Asset name ','   ','average daily rate of return','   ','sharp rate','   ','maximum retracement')\n",
    "    plt.figure(figsize=(8, 6), dpi=100)\n",
    "    for i in range(len(agents)):\n",
    "        plt.plot(wealths_result[i],label=labels[i])\n",
    "        mrr=float(np.mean(rs_result[i])*100)\n",
    "        sharpe=float(np.mean(rs_result[i])/np.std(rs_result[i])*np.sqrt(252))\n",
    "        maxdrawdown=float(max(1-min(wealths_result[i])/np.maximum.accumulate(wealths_result[i])))\n",
    "        print(labels[i],'   ',round(mrr,3),'%','   ',round(sharpe,3),'  ',round(maxdrawdown,3))\n",
    "    plt.legend()\n",
    "    plt.savefig(PATH_prefix+'backtest.png')\n",
    "    plt.show()"
   ]
  },
  {
   "cell_type": "code",
   "execution_count": 8,
   "metadata": {},
   "outputs": [],
   "source": [
    "def parse_config(config,mode):\n",
    "    codes = config[\"session\"][\"codes\"]\n",
    "    start_date = config[\"session\"][\"start_date\"]\n",
    "    end_date = config[\"session\"][\"end_date\"]\n",
    "    features = config[\"session\"][\"features\"]\n",
    "    agent_config = config[\"session\"][\"agents\"]\n",
    "    market = config[\"session\"][\"market_types\"]\n",
    "    noise_flag, record_flag, plot_flag=config[\"session\"][\"noise_flag\"],config[\"session\"][\"record_flag\"],config[\"session\"][\"plot_flag\"]\n",
    "    predictor, framework, window_length = agent_config\n",
    "    reload_flag, trainable=config[\"session\"]['reload_flag'],config[\"session\"]['trainable']\n",
    "    method=config[\"session\"]['method']\n",
    "\n",
    "    global epochs\n",
    "    epochs = int(config[\"session\"][\"epochs\"])\n",
    "\n",
    "    if mode=='test':\n",
    "        record_flag='True'\n",
    "        noise_flag='False'\n",
    "        plot_flag='True'\n",
    "        reload_flag='True'\n",
    "        trainable='False'\n",
    "        method='model_free'\n",
    "\n",
    "    print(\"*--------------------Training Status-------------------*\")\n",
    "    print(\"Date from\",start_date,' to ',end_date)\n",
    "    print('Features:',\"PPO\")\n",
    "   \n",
    "    print(\"Predictor:\",predictor,\" Window_length:\",window_length)\n",
    "    print(\"Epochs:\",epochs)\n",
    "    print(\"Trainable:\",trainable)\n",
    "  \n",
    "\n",
    "\n",
    "    return codes,start_date,end_date,features,agent_config,market,predictor, framework, window_length,noise_flag, record_flag, plot_flag,reload_flag,trainable,method\n"
   ]
  },
  {
   "cell_type": "code",
   "execution_count": 9,
   "metadata": {},
   "outputs": [],
   "source": [
    "def session(config,args):\n",
    "    global PATH_prefix\n",
    "    from data.environment import Environment\n",
    "    codes, start_date, end_date, features, agent_config, market,predictor, framework, window_length,noise_flag, record_flag, plot_flag,reload_flag,trainable,method=parse_config(config,args)\n",
    "    env = Environment()\n",
    "\n",
    "    global M\n",
    "    M=codes+1\n",
    "\n",
    "    stocktrader=StockTrader()\n",
    "    PATH_prefix = \"result/PG/\" + str(args['num']) + '/'\n",
    "\n",
    "    if args['mode']=='train':\n",
    "        if not os.path.exists(PATH_prefix):\n",
    "            os.makedirs(PATH_prefix)\n",
    "            train_start_date, train_end_date, test_start_date, test_end_date, codes = env.get_repo(start_date, end_date,\n",
    "                                                                                                   codes, market)\n",
    "            env.get_data(train_start_date, train_end_date, features, window_length, market, codes)\n",
    "            print(\"Codes:\", codes)\n",
    "            print('Training Time Period:', train_start_date, '   ', train_end_date)\n",
    "            print('Testing Time Period:', test_start_date, '   ', test_end_date)\n",
    "            with open(PATH_prefix + 'config.json', 'w') as f:\n",
    "                json.dump({\"train_start_date\": train_start_date.strftime('%Y-%m-%d'),\n",
    "                           \"train_end_date\": train_end_date.strftime('%Y-%m-%d'),\n",
    "                           \"test_start_date\": test_start_date.strftime('%Y-%m-%d'),\n",
    "                           \"test_end_date\": test_end_date.strftime('%Y-%m-%d'), \"codes\": codes}, f)\n",
    "                print(\"finish writing config\")\n",
    "        else:\n",
    "            with open(\"result/PG/\" + str(args['num']) + '/config.json', 'r') as f:\n",
    "                dict_data = json.load(f)\n",
    "                print(\"successfully load config\")\n",
    "            train_start_date, train_end_date, codes = datetime.datetime.strptime(dict_data['train_start_date'],\n",
    "                                                                               '%Y-%m-%d'), datetime.datetime.strptime(\n",
    "                dict_data['train_end_date'], '%Y-%m-%d'), dict_data['codes']\n",
    "            env.get_data(train_start_date, train_end_date, features, window_length, market, codes)\n",
    "\n",
    "        for noise_flag in ['True']:#['False','True'] to train agents with noise and without noise in assets prices\n",
    "            if framework == 'PG':\n",
    "                print(\"*-----------------Loading PG Agent---------------------*\")\n",
    "                agent = PG(len(codes) + 1, int(window_length), len(features), '-'.join(agent_config), reload_flag,\n",
    "                           trainable,noise_flag,args['num'])\n",
    "\n",
    "            print(\"Training with {:d}\".format(epochs))\n",
    "            for epoch in range(epochs):\n",
    "                print(\"Now we are at epoch\", epoch)\n",
    "                traversal(stocktrader,agent,env,epoch,noise_flag,framework,method,trainable)\n",
    "\n",
    "                if record_flag=='True':\n",
    "                    stocktrader.write(epoch,framework)\n",
    "\n",
    "                if plot_flag=='True':\n",
    "                    stocktrader.plot_result()\n",
    "\n",
    "                agent.reset_buffer()\n",
    "                stocktrader.print_result(epoch,agent,noise_flag)\n",
    "                stocktrader.reset()\n",
    "            agent.close()\n",
    "            del agent\n",
    "\n",
    "    elif args['mode']=='test':\n",
    "        with open(\"result/PG/\" + str(args['num']) + '/config.json', 'r') as f:\n",
    "            dict_data=json.load(f)\n",
    "        test_start_date,test_end_date,codes=datetime.datetime.strptime(dict_data['test_start_date'],'%Y-%m-%d'),datetime.datetime.strptime(dict_data['test_end_date'],'%Y-%m-%d'),dict_data['codes']\n",
    "        env.get_data(test_start_date,test_end_date,features,window_length,market,codes)\n",
    "        backtest([PG(len(codes) + 1, int(window_length), len(features), '-'.join(agent_config), 'True','False','True',args['num'])],\n",
    "                 env)\n"
   ]
  },
  {
   "cell_type": "code",
   "execution_count": 10,
   "metadata": {},
   "outputs": [],
   "source": [
    "def main(args):\n",
    "  \n",
    "    with open('config.json') as f:\n",
    "        config=json.load(f)\n",
    "        if args['mode']=='download':\n",
    "            from data.download_data import DataDownloader\n",
    "            data_downloader=DataDownloader(config)\n",
    "            data_downloader.save_data()\n",
    "        else:\n",
    "            session(config,args)\n",
    "            \n",
    "\n"
   ]
  },
  {
   "cell_type": "code",
   "execution_count": null,
   "metadata": {},
   "outputs": [],
   "source": [
    "#args = {\"mode\" : \"train\" , \"num\" : \"None\" }"
   ]
  },
  {
   "cell_type": "code",
   "execution_count": null,
   "metadata": {},
   "outputs": [],
   "source": [
    "#main(args)"
   ]
  },
  {
   "cell_type": "code",
   "execution_count": null,
   "metadata": {},
   "outputs": [],
   "source": [
    "#args = {\"mode\" : \"test\" , \"num\" : \"None\" }"
   ]
  },
  {
   "cell_type": "code",
   "execution_count": 15,
   "metadata": {},
   "outputs": [
    {
     "name": "stdout",
     "output_type": "stream",
     "text": [
      "*--------------------Training Status-------------------*\n",
      "Date from 2007-01-01  to  2018-12-30\n",
      "Features: PPO\n",
      "Predictor: CNN  Window_length: 10\n",
      "Epochs: 100\n",
      "Trainable: True\n",
      "Loading Model\n",
      "./saved_network/PG/True/\n",
      "Successfully loaded: ./result/PG/None/saved_network/True/CNN-PG-10-100\n",
      "starting to backtest......\n",
      "Asset name      average daily rate of return     sharp rate     maximum retracement\n",
      "PG     0.137 %     0.581    0.518\n",
      "Winner     -0.052 %     -0.213    0.847\n",
      "UCRP     0.115 %     0.521    0.322\n",
      "Losser     -0.283 %     -1.158    0.983\n"
     ]
    },
    {
     "data": {
      "image/png": "[encoded data removed]",
      "text/plain": [
       "<Figure size 800x600 with 1 Axes>"
      ]
     },
     "metadata": {
      "needs_background": "light"
     },
     "output_type": "display_data"
    }
   ],
   "source": [
    "#main(args)"
   ]
  },
  {
   "cell_type": "markdown",
   "metadata": {},
   "source": [
    "## Conclusion "
   ]
  },
  {
   "cell_type": "markdown",
   "metadata": {},
   "source": [
    "It’s found that deep reinforcement learning can somehow capture patterns of market movements even though it is allowed to observe limited data and features and self-improve its performance."
   ]
  },
  {
   "cell_type": "markdown",
   "metadata": {},
   "source": [
    "However, reinforcement learning does not gain such remarkable performance in portfolio management so far as those in game playing or robot control"
   ]
  },
  {
   "cell_type": "markdown",
   "metadata": {},
   "source": [
    "### References \n",
    "\n",
    "* Groundai. “Deep Reinforcement Learning in Portfolio Management.” GroundAI, GroundAI, 29 Aug. 2018, www.groundai.com/project/deep-reinforcement-learning-in-portfolio-management/1.\n",
    "* Proximal Policy Optimization Algorithms, https://openai.com/blog/openai-baselines-ppo/"
   ]
  },
  {
   "cell_type": "code",
   "execution_count": null,
   "metadata": {},
   "outputs": [],
   "source": []
  }
 ],
 "metadata": {
  "kernelspec": {
   "display_name": "Python 3",
   "language": "python",
   "name": "python3"
  },
  "language_info": {
   "codemirror_mode": {
    "name": "ipython",
    "version": 3
   },
   "file_extension": ".py",
   "mimetype": "text/x-python",
   "name": "python",
   "nbconvert_exporter": "python",
   "pygments_lexer": "ipython3",
   "version": "3.7.1"
  }
 },
 "nbformat": 4,
 "nbformat_minor": 2
}
